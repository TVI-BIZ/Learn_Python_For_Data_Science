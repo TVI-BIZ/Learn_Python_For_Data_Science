{
 "cells": [
  {
   "cell_type": "markdown",
   "metadata": {},
   "source": [
    "# Intro. ScikitLearn Classifier"
   ]
  },
  {
   "cell_type": "code",
   "execution_count": 22,
   "metadata": {},
   "outputs": [],
   "source": [
    "from sklearn import tree\n",
    "from sklearn.model_selection import train_test_split\n",
    "from sklearn.linear_model import LogisticRegression\n",
    "from sklearn.metrics import accuracy_score\n",
    "\n",
    "# [height, weight,shoe, size]\n",
    "X = [[181,80,44],[177,70,43], [160,60,38], [154,54,37],[166,65,40],[190,90,47],[175,64,39],[177,70,40],[159,55,37],[171,75,42],[181,85,43]]\n",
    "Y = ['male', 'female','female','female','male','male','male', 'female', 'male','female','male']\n",
    "\n",
    "X_train, X_test, y_train, y_test = train_test_split(X,Y,test_size=0.33, random_state = 1 )"
   ]
  },
  {
   "cell_type": "code",
   "execution_count": 31,
   "metadata": {},
   "outputs": [
    {
     "name": "stdout",
     "output_type": "stream",
     "text": [
      "Accuracy of the Tree Model is 0.5\n",
      "Accuracy of the Regression Model is 0.25\n"
     ]
    }
   ],
   "source": [
    "clf_tree = tree.DecisionTreeClassifier()\n",
    "clf_tree = clf_tree.fit(X_train,y_train)\n",
    "\n",
    "clf_log_reg = LogisticRegression()\n",
    "clf_log_reg = clf_log_reg.fit(X_train,y_train)\n",
    "\n",
    "prediction_tree = clf_tree.predict([[190,70,45]])\n",
    "prediction_reg = clf_log_reg.predict([[190,70,45]])\n",
    "\n",
    "prediction_tree_acs = clf_tree.predict(X_test)\n",
    "prediction_reg_acs = clf_log_reg.predict(X_test)\n",
    "\n",
    "acs_tree = accuracy_score(y_test,prediction_tree_acs )\n",
    "acs_reg = accuracy_score(y_test,prediction_reg_acs )\n",
    "\n",
    "print('Accuracy of the Tree Model is {}' .format(acs_tree))\n",
    "print('Accuracy of the Regression Model is {}' .format(acs_reg))\n",
    "#print(prediction_reg)"
   ]
  },
  {
   "cell_type": "code",
   "execution_count": null,
   "metadata": {},
   "outputs": [],
   "source": []
  },
  {
   "cell_type": "code",
   "execution_count": null,
   "metadata": {},
   "outputs": [],
   "source": []
  }
 ],
 "metadata": {
  "kernelspec": {
   "display_name": "Python 3",
   "language": "python",
   "name": "python3"
  },
  "language_info": {
   "codemirror_mode": {
    "name": "ipython",
    "version": 3
   },
   "file_extension": ".py",
   "mimetype": "text/x-python",
   "name": "python",
   "nbconvert_exporter": "python",
   "pygments_lexer": "ipython3",
   "version": "3.6.3"
  }
 },
 "nbformat": 4,
 "nbformat_minor": 2
}
